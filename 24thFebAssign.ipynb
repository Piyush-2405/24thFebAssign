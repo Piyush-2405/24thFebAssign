{
 "cells": [
  {
   "cell_type": "markdown",
   "id": "6765e77b-5b0d-4337-8588-1d808dca197c",
   "metadata": {},
   "source": [
    "Q1. List any five functions of the pandas library with execution."
   ]
  },
  {
   "cell_type": "markdown",
   "id": "09a79863-4904-49c1-853a-193bc8e5185c",
   "metadata": {},
   "source": [
    "Five functions of the Pandas library with an example of their execution:\n",
    "\n",
    "1. \n",
    "read_csv: This function is used to read data from a CSV file and convert it into a Pandas DataFrame."
   ]
  },
  {
   "cell_type": "code",
   "execution_count": 2,
   "id": "9d981fe2-6cea-4e47-855a-cfb9eaabc5ba",
   "metadata": {},
   "outputs": [
    {
     "name": "stdout",
     "output_type": "stream",
     "text": [
      "                 STATE_UT_NAME       DISTRICT    JAN   FEB    MAR    APR  \\\n",
      "0  ANDAMAN And NICOBAR ISLANDS        NICOBAR  107.3  57.9   65.2  117.0   \n",
      "1  ANDAMAN And NICOBAR ISLANDS  SOUTH ANDAMAN   43.7  26.0   18.6   90.5   \n",
      "2  ANDAMAN And NICOBAR ISLANDS  N & M ANDAMAN   32.7  15.9    8.6   53.4   \n",
      "3            ARUNACHAL PRADESH          LOHIT   42.2  80.8  176.4  358.5   \n",
      "4            ARUNACHAL PRADESH     EAST SIANG   33.3  79.5  105.9  216.5   \n",
      "\n",
      "     MAY    JUN    JUL    AUG    SEP    OCT    NOV    DEC  ANNUAL  Jan-Feb  \\\n",
      "0  358.5  295.5  285.0  271.9  354.8  326.0  315.2  250.9  2805.2    165.2   \n",
      "1  374.4  457.2  421.3  423.1  455.6  301.2  275.8  128.3  3015.7     69.7   \n",
      "2  343.6  503.3  465.4  460.9  454.8  276.1  198.6  100.0  2913.3     48.6   \n",
      "3  306.4  447.0  660.1  427.8  313.6  167.1   34.1   29.8  3043.8    123.0   \n",
      "4  323.0  738.3  990.9  711.2  568.0  206.9   29.5   31.7  4034.7    112.8   \n",
      "\n",
      "   Mar-May  Jun-Sep  Oct-Dec  \n",
      "0    540.7   1207.2    892.1  \n",
      "1    483.5   1757.2    705.3  \n",
      "2    405.6   1884.4    574.7  \n",
      "3    841.3   1848.5    231.0  \n",
      "4    645.4   3008.4    268.1  \n"
     ]
    }
   ],
   "source": [
    "import pandas as pd\n",
    "\n",
    "df = pd.read_csv('district wise rainfall normal.csv')\n",
    "print(df.head())\n"
   ]
  },
  {
   "cell_type": "markdown",
   "id": "99e7fe55-09c7-4b5a-944e-9c6c332e1f33",
   "metadata": {},
   "source": [
    "2. \n",
    "head: This function is used to return the first n rows of a DataFrame. By default, it returns the first five rows."
   ]
  },
  {
   "cell_type": "code",
   "execution_count": 3,
   "id": "ec8ebe92-1a23-41b2-b2de-65a088c42cb9",
   "metadata": {},
   "outputs": [
    {
     "name": "stdout",
     "output_type": "stream",
     "text": [
      "                 STATE_UT_NAME       DISTRICT    JAN    FEB    MAR    APR  \\\n",
      "0  ANDAMAN And NICOBAR ISLANDS        NICOBAR  107.3   57.9   65.2  117.0   \n",
      "1  ANDAMAN And NICOBAR ISLANDS  SOUTH ANDAMAN   43.7   26.0   18.6   90.5   \n",
      "2  ANDAMAN And NICOBAR ISLANDS  N & M ANDAMAN   32.7   15.9    8.6   53.4   \n",
      "3            ARUNACHAL PRADESH          LOHIT   42.2   80.8  176.4  358.5   \n",
      "4            ARUNACHAL PRADESH     EAST SIANG   33.3   79.5  105.9  216.5   \n",
      "5            ARUNACHAL PRADESH  SUBANSIRI F.D   28.0   48.3   85.3  101.5   \n",
      "6            ARUNACHAL PRADESH          TIRAP   42.2   72.7  141.0  316.9   \n",
      "7            ARUNACHAL PRADESH  ANJAW (LOHIT)   42.2   80.8  176.4  358.5   \n",
      "8            ARUNACHAL PRADESH   LOWER DIBANG   83.7  153.9  303.5  383.6   \n",
      "9            ARUNACHAL PRADESH      CHANGLANG   70.3  170.9  367.9  554.4   \n",
      "\n",
      "     MAY    JUN    JUL    AUG    SEP    OCT    NOV    DEC  ANNUAL  Jan-Feb  \\\n",
      "0  358.5  295.5  285.0  271.9  354.8  326.0  315.2  250.9  2805.2    165.2   \n",
      "1  374.4  457.2  421.3  423.1  455.6  301.2  275.8  128.3  3015.7     69.7   \n",
      "2  343.6  503.3  465.4  460.9  454.8  276.1  198.6  100.0  2913.3     48.6   \n",
      "3  306.4  447.0  660.1  427.8  313.6  167.1   34.1   29.8  3043.8    123.0   \n",
      "4  323.0  738.3  990.9  711.2  568.0  206.9   29.5   31.7  4034.7    112.8   \n",
      "5  140.5  228.4  217.4  182.8  159.8   75.9   20.9   11.6  1300.4     76.3   \n",
      "6  328.7  614.7  851.9  500.6  418.3  218.7   42.9   22.9  3571.5    114.9   \n",
      "7  306.4  447.0  660.1  427.8  313.6  167.1   34.1   29.8  3043.8    123.0   \n",
      "8  268.0  374.2  272.0  160.5  266.7  167.2   64.0   56.0  2553.3    237.6   \n",
      "9  334.2  526.2  460.8  291.5  353.6  275.0   64.9   74.2  3543.9    241.2   \n",
      "\n",
      "   Mar-May  Jun-Sep  Oct-Dec  \n",
      "0    540.7   1207.2    892.1  \n",
      "1    483.5   1757.2    705.3  \n",
      "2    405.6   1884.4    574.7  \n",
      "3    841.3   1848.5    231.0  \n",
      "4    645.4   3008.4    268.1  \n",
      "5    327.3    788.4    108.4  \n",
      "6    786.6   2385.5    284.5  \n",
      "7    841.3   1848.5    231.0  \n",
      "8    955.1   1073.4    287.2  \n",
      "9   1256.5   1632.1    414.1  \n"
     ]
    }
   ],
   "source": [
    "import pandas as pd\n",
    "\n",
    "df = pd.read_csv('district wise rainfall normal.csv')\n",
    "print(df.head(10)) # returns the first 10 rows\n"
   ]
  },
  {
   "cell_type": "markdown",
   "id": "1d63c4f0-1da2-457e-8f67-22f785c7aa00",
   "metadata": {},
   "source": [
    "3. \n",
    "describe: This function is used to generate descriptive statistics of a DataFrame, including count, mean, standard deviation, minimum and maximum values, and quartile values."
   ]
  },
  {
   "cell_type": "code",
   "execution_count": 4,
   "id": "13b485b2-1615-4114-8d51-712a2511d86c",
   "metadata": {},
   "outputs": [
    {
     "name": "stdout",
     "output_type": "stream",
     "text": [
      "              JAN         FEB         MAR         APR         MAY  \\\n",
      "count  641.000000  641.000000  641.000000  641.000000  641.000000   \n",
      "mean    18.355070   20.984399   30.034789   45.543214   81.535101   \n",
      "std     21.082806   27.729596   45.451082   71.556279  111.960390   \n",
      "min      0.000000    0.000000    0.000000    0.000000    0.900000   \n",
      "25%      6.900000    7.000000    7.000000    5.000000   12.100000   \n",
      "50%     13.300000   12.300000   12.700000   15.100000   33.900000   \n",
      "75%     19.200000   24.100000   33.200000   48.300000   91.900000   \n",
      "max    144.500000  229.600000  367.900000  554.400000  733.700000   \n",
      "\n",
      "               JUN          JUL          AUG         SEP         OCT  \\\n",
      "count   641.000000   641.000000   641.000000  641.000000  641.000000   \n",
      "mean    196.007332   326.033697   291.152262  194.609048   90.446334   \n",
      "std     196.556284   221.364643   152.647325   99.830540   74.990685   \n",
      "min       3.800000    11.600000    14.100000    8.600000    3.100000   \n",
      "25%      68.800000   206.400000   194.600000  128.800000   34.300000   \n",
      "50%     131.900000   293.700000   284.800000  181.300000   62.600000   \n",
      "75%     226.600000   374.800000   358.100000  234.100000  130.200000   \n",
      "max    1476.200000  1820.900000  1522.100000  826.300000  517.700000   \n",
      "\n",
      "              NOV         DEC       ANNUAL     Jan-Feb      Mar-May  \\\n",
      "count  641.000000  641.000000   641.000000  641.000000   641.000000   \n",
      "mean    34.117473   18.150858  1346.969579   39.339470   157.113105   \n",
      "std     59.371274   32.711009   838.878874   47.212773   213.445888   \n",
      "min      1.200000    0.000000    94.600000    0.000000     1.500000   \n",
      "25%      6.600000    5.300000   830.400000   14.700000    27.800000   \n",
      "50%     12.900000    7.900000  1116.200000   27.700000    67.200000   \n",
      "75%     32.300000   14.900000  1530.900000   41.100000   172.400000   \n",
      "max    475.100000  297.700000  7229.300000  335.300000  1256.500000   \n",
      "\n",
      "          Jun-Sep      Oct-Dec  \n",
      "count   641.00000   641.000000  \n",
      "mean   1007.80234   142.714665  \n",
      "std     629.33261   148.951752  \n",
      "min      39.60000     5.600000  \n",
      "25%     625.40000    51.600000  \n",
      "50%     896.60000    86.700000  \n",
      "75%    1193.80000   175.200000  \n",
      "max    5228.00000  1048.500000  \n"
     ]
    }
   ],
   "source": [
    "import pandas as pd\n",
    "\n",
    "df = pd.read_csv('district wise rainfall normal.csv')\n",
    "print(df.describe())\n"
   ]
  },
  {
   "cell_type": "markdown",
   "id": "cad5cf16-63e9-4a27-b377-d20c59401f75",
   "metadata": {},
   "source": [
    "4. \n",
    "groupby: This function is used to group data in a DataFrame based on one or more columns and then perform an aggregation function on each group.\n"
   ]
  },
  {
   "cell_type": "code",
   "execution_count": 47,
   "id": "ba7e0966-6336-48f6-ad71-df63f0e49479",
   "metadata": {},
   "outputs": [
    {
     "name": "stdout",
     "output_type": "stream",
     "text": [
      "              JAN   FEB    MAR    APR    MAY    JUN    JUL    AUG    SEP  \\\n",
      "DISTRICT                                                                   \n",
      "ADILABAD      7.5   7.0   11.4   11.9   18.2  178.4  317.4  291.7  171.4   \n",
      "AGRA         17.5   9.9    8.9    4.0    9.3   53.8  227.1  280.9  125.4   \n",
      "AHMEDABAD     0.8   0.3    0.5    0.7    5.9   91.0  215.4  190.8  105.4   \n",
      "AHMEDNAGAR    0.6   1.3    3.0    5.3   21.6  104.9  101.8   91.8  139.1   \n",
      "AIZAWL       13.8  31.2  107.9  185.8  351.4  467.7  448.7  480.7  390.9   \n",
      "...           ...   ...    ...    ...    ...    ...    ...    ...    ...   \n",
      "YADGIR        4.4   3.6    5.2   20.5   36.8  116.8  153.0  161.2  179.8   \n",
      "YAMUNANAGAR  42.5  34.9   31.9   15.1   26.4  117.8  304.4  325.4  144.5   \n",
      "YANAM        17.9  19.6   16.6   10.7   43.6   46.9   84.3  127.8  126.0   \n",
      "YAVATMAL      8.6   4.6   11.0    7.7   11.9  173.6  267.1  262.8  151.5   \n",
      "ZUNHEBOTO    23.7  26.8   65.7  177.2  225.7  350.3  441.8  352.2  241.8   \n",
      "\n",
      "               OCT    NOV    DEC  ANNUAL  Jan-Feb  Mar-May  Jun-Sep  Oct-Dec  \n",
      "DISTRICT                                                                      \n",
      "ADILABAD      83.0   14.8    7.3  1120.0     14.5     41.5    958.9    105.1  \n",
      "AGRA          28.1    5.0    4.7   774.6     27.4     22.2    687.2     37.8  \n",
      "AHMEDABAD     19.1    8.2    1.8   639.9      1.1      7.1    602.6     29.1  \n",
      "AHMEDNAGAR    73.8   22.5    7.5   573.2      1.9     29.9    437.6    103.8  \n",
      "AIZAWL       254.5   65.3   16.5  2814.4     45.0    645.1   1788.0    336.3  \n",
      "...            ...    ...    ...     ...      ...      ...      ...      ...  \n",
      "YADGIR       123.4   24.5    5.3   834.5      8.0     62.5    610.8    153.2  \n",
      "YAMUNANAGAR   36.0    6.8   21.3  1107.0     77.4     73.4    892.1     64.1  \n",
      "YANAM        270.7  368.5  203.9  1336.5     37.5     70.9    385.0    843.1  \n",
      "YAVATMAL      61.9   13.2    8.9   982.8     13.2     30.6    855.0     84.0  \n",
      "ZUNHEBOTO    122.5   41.6   10.7  2080.0     50.5    468.6   1386.1    174.8  \n",
      "\n",
      "[637 rows x 17 columns]\n"
     ]
    },
    {
     "name": "stderr",
     "output_type": "stream",
     "text": [
      "/tmp/ipykernel_70/1270024050.py:5: FutureWarning: The default value of numeric_only in DataFrameGroupBy.mean is deprecated. In a future version, numeric_only will default to False. Either specify numeric_only or select only columns which should be valid for the function.\n",
      "  print(grouped.mean())\n"
     ]
    }
   ],
   "source": [
    "import pandas as pd\n",
    "\n",
    "df = pd.read_csv('district wise rainfall normal.csv')\n",
    "grouped = df.groupby('DISTRICT')\n",
    "print(grouped.mean())\n"
   ]
  },
  {
   "cell_type": "markdown",
   "id": "6a2c5822-96f6-4c2d-9528-12cc38b718dc",
   "metadata": {},
   "source": [
    "5. \n",
    "to_csv: This function is used to save a DataFrame to a CSV file."
   ]
  },
  {
   "cell_type": "code",
   "execution_count": 48,
   "id": "ba507b7f-1035-41c1-8e31-7b719a78a684",
   "metadata": {},
   "outputs": [
    {
     "name": "stdout",
     "output_type": "stream",
     "text": [
      "                 STATE_UT_NAME       DISTRICT    JAN   FEB    MAR    APR  \\\n",
      "0  ANDAMAN And NICOBAR ISLANDS        NICOBAR  107.3  57.9   65.2  117.0   \n",
      "1  ANDAMAN And NICOBAR ISLANDS  SOUTH ANDAMAN   43.7  26.0   18.6   90.5   \n",
      "2  ANDAMAN And NICOBAR ISLANDS  N & M ANDAMAN   32.7  15.9    8.6   53.4   \n",
      "3            ARUNACHAL PRADESH          LOHIT   42.2  80.8  176.4  358.5   \n",
      "4            ARUNACHAL PRADESH     EAST SIANG   33.3  79.5  105.9  216.5   \n",
      "\n",
      "     MAY    JUN    JUL    AUG    SEP    OCT    NOV    DEC  ANNUAL  Jan-Feb  \\\n",
      "0  358.5  295.5  285.0  271.9  354.8  326.0  315.2  250.9  2805.2    165.2   \n",
      "1  374.4  457.2  421.3  423.1  455.6  301.2  275.8  128.3  3015.7     69.7   \n",
      "2  343.6  503.3  465.4  460.9  454.8  276.1  198.6  100.0  2913.3     48.6   \n",
      "3  306.4  447.0  660.1  427.8  313.6  167.1   34.1   29.8  3043.8    123.0   \n",
      "4  323.0  738.3  990.9  711.2  568.0  206.9   29.5   31.7  4034.7    112.8   \n",
      "\n",
      "   Mar-May  Jun-Sep  Oct-Dec  \n",
      "0    540.7   1207.2    892.1  \n",
      "1    483.5   1757.2    705.3  \n",
      "2    405.6   1884.4    574.7  \n",
      "3    841.3   1848.5    231.0  \n",
      "4    645.4   3008.4    268.1  \n"
     ]
    }
   ],
   "source": [
    "import pandas as pd\n",
    "\n",
    "df = pd.read_csv('district wise rainfall normal.csv')\n",
    "df.to_csv('new_file.csv', index=False)\n",
    "\n",
    "df_read = pd.read_csv('new_file.csv')\n",
    "print(df_read.head())"
   ]
  },
  {
   "cell_type": "markdown",
   "id": "b10d53af-7df4-4354-b752-09647210d7ab",
   "metadata": {},
   "source": [
    "Q2. Given a Pandas DataFrame df with columns 'A', 'B', and 'C', write a Python function to re-index the\n",
    "DataFrame with a new index that starts from 1 and increments by 2 for each row."
   ]
  },
  {
   "cell_type": "code",
   "execution_count": 49,
   "id": "4b31eee1-5430-4983-bd34-5a080d6b25b6",
   "metadata": {},
   "outputs": [],
   "source": [
    "import pandas as pd\n",
    "\n",
    "def reindex_df(df):\n",
    "    new_index = list(range(1, len(df)*2+1, 2))\n",
    "    new_df = df.set_index(pd.Index(new_index))\n",
    "    return new_df\n"
   ]
  },
  {
   "cell_type": "code",
   "execution_count": 50,
   "id": "da22e7bf-837f-4fb4-9196-112290a1d037",
   "metadata": {},
   "outputs": [],
   "source": [
    "# new_df = reindex_df(df)\n"
   ]
  },
  {
   "cell_type": "code",
   "execution_count": 51,
   "id": "b167d98f-e1e5-4f85-ad43-2b9cd1a315ba",
   "metadata": {},
   "outputs": [
    {
     "ename": "NameError",
     "evalue": "name 'new_df' is not defined",
     "output_type": "error",
     "traceback": [
      "\u001b[0;31m---------------------------------------------------------------------------\u001b[0m",
      "\u001b[0;31mNameError\u001b[0m                                 Traceback (most recent call last)",
      "Cell \u001b[0;32mIn[51], line 1\u001b[0m\n\u001b[0;32m----> 1\u001b[0m \u001b[38;5;28mprint\u001b[39m(\u001b[43mnew_df\u001b[49m)\n",
      "\u001b[0;31mNameError\u001b[0m: name 'new_df' is not defined"
     ]
    }
   ],
   "source": [
    "print(new_df)"
   ]
  },
  {
   "cell_type": "markdown",
   "id": "6c2f9119-8614-42bd-8a51-e0d9b7a9ab28",
   "metadata": {},
   "source": [
    "Q3. You have a Pandas DataFrame df with a column named 'Values'. Write a Python function that\n",
    "iterates over the DataFrame and calculates the sum of the first three values in the 'Values' column. The\n",
    "function should print the sum to the console.\n",
    "\n",
    "For example, if the 'Values' column of df contains the values [10, 20, 30, 40, 50], your function should\n",
    "calculate and print the sum of the first three values, which is 60."
   ]
  },
  {
   "cell_type": "code",
   "execution_count": 52,
   "id": "fcdf2fb7-d2be-419c-9dfe-112c149966fa",
   "metadata": {},
   "outputs": [],
   "source": [
    "import pandas as pd\n",
    "\n",
    "\n",
    "df = pd.DataFrame({'Values': [1,2,3,4,5]})\n"
   ]
  },
  {
   "cell_type": "code",
   "execution_count": 53,
   "id": "60546a9b-e8c0-4157-b8d0-f37eda66a4d4",
   "metadata": {},
   "outputs": [],
   "source": [
    "def Sum_first_3(df):\n",
    "    value_sum = 0\n",
    "    \n",
    "    for i in range(3):\n",
    "        value_sum = value_sum + df['Values'][i]\n",
    "        \n",
    "    print(\"The sum of fist 3 values is :\", value_sum)"
   ]
  },
  {
   "cell_type": "code",
   "execution_count": 54,
   "id": "34e8ff3a-9ec7-4b86-8fac-e18dafc07ce2",
   "metadata": {},
   "outputs": [
    {
     "name": "stdout",
     "output_type": "stream",
     "text": [
      "The sum of fist 3 values is : 6\n"
     ]
    }
   ],
   "source": [
    "Sum_first_3(df)"
   ]
  },
  {
   "cell_type": "markdown",
   "id": "d407b8a4-a246-4f19-aaa2-d93ca6f173e6",
   "metadata": {},
   "source": [
    "Q4. Given a Pandas DataFrame df with a column 'Text', write a Python function to create a new column\n",
    "'Word_Count' that contains the number of words in each row of the 'Text' column."
   ]
  },
  {
   "cell_type": "code",
   "execution_count": 55,
   "id": "f3358293-2cec-4386-9e46-806371e83130",
   "metadata": {},
   "outputs": [
    {
     "name": "stdout",
     "output_type": "stream",
     "text": [
      "                Text\n",
      "0  one in place of 1\n",
      "1       two is for 2\n",
      "2         three is 3\n",
      "3   four for 4 right\n",
      "4               five\n"
     ]
    }
   ],
   "source": [
    "import pandas as pd\n",
    "\n",
    "df = pd.DataFrame({'Text': ['one in place of 1','two is for 2','three is 3','four for 4 right','five']})\n",
    "print(df)"
   ]
  },
  {
   "cell_type": "code",
   "execution_count": 56,
   "id": "c7df3223-ab5a-4a67-8290-abb85508d67b",
   "metadata": {},
   "outputs": [
    {
     "name": "stdout",
     "output_type": "stream",
     "text": [
      "                Text  Word_Count\n",
      "0  one in place of 1           5\n",
      "1       two is for 2           4\n",
      "2         three is 3           3\n",
      "3   four for 4 right           4\n",
      "4               five           1\n"
     ]
    }
   ],
   "source": [
    "def No_Word_Row(df):\n",
    "    word_lists = df['Text'].str.split()\n",
    "    df['Word_Count'] = [len(word_list) for word_list in word_lists]\n",
    "\n",
    "No_Word_Row(df)\n",
    "print(df)"
   ]
  },
  {
   "cell_type": "markdown",
   "id": "cce17b3f-e093-4d4c-914b-bd4953151d4e",
   "metadata": {},
   "source": [
    "Q5. How are DataFrame.size() and DataFrame.shape() different?"
   ]
  },
  {
   "cell_type": "markdown",
   "id": "ee5c250f-8f32-4b49-af48-2b89aeda17e7",
   "metadata": {},
   "source": [
    "DataFrame.size() and DataFrame.shape() are two different methods of a Pandas DataFrame that provide different types of information about the DataFrame.\n",
    "\n",
    "DataFrame.size() returns the total number of elements in the DataFrame, which is equal to the number of rows multiplied by the number of columns. The method does not take any arguments and returns a single integer value.\n",
    "\n",
    "On the other hand, DataFrame.shape() returns a tuple containing the number of rows and columns in the DataFrame, respectively. The method does not take any arguments and returns a tuple of two integers.\n",
    "\n",
    "Here's an example usage of both methods to illustrate the difference:"
   ]
  },
  {
   "cell_type": "code",
   "execution_count": 57,
   "id": "48b5f4fb-4d44-49cf-85d0-9b940c602029",
   "metadata": {},
   "outputs": [
    {
     "name": "stdout",
     "output_type": "stream",
     "text": [
      "Size of DataFrame: 6\n",
      "Shape of DataFrame: (3, 2)\n"
     ]
    }
   ],
   "source": [
    "import pandas as pd\n",
    "\n",
    "df = pd.DataFrame({'A': [1, 2, 3], 'B': [4, 5, 6]})\n",
    "print(\"Size of DataFrame:\", df.size)\n",
    "print(\"Shape of DataFrame:\", df.shape)\n"
   ]
  },
  {
   "cell_type": "markdown",
   "id": "e7c4b3b5-72f9-414d-83ca-fb5701bd68b3",
   "metadata": {},
   "source": [
    "Q6. Which function of pandas do we use to read an excel file?"
   ]
  },
  {
   "cell_type": "markdown",
   "id": "07418cff-2206-413f-b1ec-b23bee5ce53e",
   "metadata": {},
   "source": [
    "Pandas read_excel() function is used for reading the excel files."
   ]
  },
  {
   "cell_type": "markdown",
   "id": "b4cbe29d-a035-4d55-9a2a-1332243df846",
   "metadata": {},
   "source": [
    "Q7. You have a Pandas DataFrame df that contains a column named 'Email' that contains email\n",
    "addresses in the format 'username@domain.com'. Write a Python function that creates a new column\n",
    "'Username' in df that contains only the username part of each email address."
   ]
  },
  {
   "cell_type": "code",
   "execution_count": 58,
   "id": "47606503-c242-42b3-b6ca-561b1bca991e",
   "metadata": {},
   "outputs": [],
   "source": [
    "import pandas as pd"
   ]
  },
  {
   "cell_type": "code",
   "execution_count": 59,
   "id": "68752b03-c5b0-4ba7-a344-7ef89728028c",
   "metadata": {},
   "outputs": [],
   "source": [
    "df = pd.DataFrame({\"Email\" : ['piyush@galgotiacollege.edu','priyush@google.com','siyush@yahoo.com']})"
   ]
  },
  {
   "cell_type": "code",
   "execution_count": 60,
   "id": "dff2d6c1-4073-4757-bd3c-72e846e8c433",
   "metadata": {},
   "outputs": [
    {
     "name": "stdout",
     "output_type": "stream",
     "text": [
      "                        Email Username\n",
      "0  piyush@galgotiacollege.edu   piyush\n",
      "1          priyush@google.com  priyush\n",
      "2            siyush@yahoo.com   siyush\n"
     ]
    }
   ],
   "source": [
    "def username_email(df):\n",
    "    df['Username'] = [x.split('@')[0] for x in df['Email']]\n",
    "    \n",
    "username_email(df)\n",
    "print(df)"
   ]
  },
  {
   "cell_type": "markdown",
   "id": "3d7c954b-4460-4fa5-a723-99c7a3d336ea",
   "metadata": {},
   "source": [
    "Q8. You have a Pandas DataFrame df with columns 'A', 'B', and 'C'. Write a Python function that selects\n",
    "all rows where the value in column 'A' is greater than 5 and the value in column 'B' is less than 10. The\n",
    "function should return a new DataFrame that contains only the selected rows.\n",
    "For example, if df contains the following values:\n",
    "  A B C\n",
    "0 3 5 1\n",
    "1 8 2 7\n",
    "2 6 9 4\n",
    "3 2 3 5\n",
    "4 9 1 2"
   ]
  },
  {
   "cell_type": "code",
   "execution_count": 61,
   "id": "72ebc022-c171-44e1-80c9-66bb7c9ad6a9",
   "metadata": {},
   "outputs": [],
   "source": [
    "import pandas as pd"
   ]
  },
  {
   "cell_type": "code",
   "execution_count": 62,
   "id": "cfdc0981-5896-48d6-aefc-07644b190569",
   "metadata": {},
   "outputs": [
    {
     "name": "stdout",
     "output_type": "stream",
     "text": [
      "   A  B  C\n",
      "0  3  5  1\n",
      "1  8  2  7\n",
      "2  6  9  4\n",
      "3  2  3  5\n",
      "4  9  1  2\n"
     ]
    }
   ],
   "source": [
    "df = pd.DataFrame({'A':[3,8,6,2,9],'B':[5,2,9,3,1],'C':[1,7,4,5,2]})\n",
    "print(df)"
   ]
  },
  {
   "cell_type": "code",
   "execution_count": 63,
   "id": "27951848-d0b7-4629-9d8e-eebcdb7f591f",
   "metadata": {},
   "outputs": [],
   "source": [
    "def selection(df):\n",
    "    condition = df[(df['A'] > 5) & (df['B'] < 10)]\n",
    "    return condition\n",
    "# selection(df)\n",
    "# print(df)"
   ]
  },
  {
   "cell_type": "code",
   "execution_count": 66,
   "id": "189fab51-b73c-4bd3-b52b-c807c3dc137d",
   "metadata": {},
   "outputs": [
    {
     "data": {
      "text/html": [
       "<div>\n",
       "<style scoped>\n",
       "    .dataframe tbody tr th:only-of-type {\n",
       "        vertical-align: middle;\n",
       "    }\n",
       "\n",
       "    .dataframe tbody tr th {\n",
       "        vertical-align: top;\n",
       "    }\n",
       "\n",
       "    .dataframe thead th {\n",
       "        text-align: right;\n",
       "    }\n",
       "</style>\n",
       "<table border=\"1\" class=\"dataframe\">\n",
       "  <thead>\n",
       "    <tr style=\"text-align: right;\">\n",
       "      <th></th>\n",
       "      <th>A</th>\n",
       "      <th>B</th>\n",
       "      <th>C</th>\n",
       "    </tr>\n",
       "  </thead>\n",
       "  <tbody>\n",
       "    <tr>\n",
       "      <th>1</th>\n",
       "      <td>8</td>\n",
       "      <td>2</td>\n",
       "      <td>7</td>\n",
       "    </tr>\n",
       "    <tr>\n",
       "      <th>2</th>\n",
       "      <td>6</td>\n",
       "      <td>9</td>\n",
       "      <td>4</td>\n",
       "    </tr>\n",
       "    <tr>\n",
       "      <th>4</th>\n",
       "      <td>9</td>\n",
       "      <td>1</td>\n",
       "      <td>2</td>\n",
       "    </tr>\n",
       "  </tbody>\n",
       "</table>\n",
       "</div>"
      ],
      "text/plain": [
       "   A  B  C\n",
       "1  8  2  7\n",
       "2  6  9  4\n",
       "4  9  1  2"
      ]
     },
     "execution_count": 66,
     "metadata": {},
     "output_type": "execute_result"
    }
   ],
   "source": [
    "selection(df)\n"
   ]
  },
  {
   "cell_type": "markdown",
   "id": "1add272b-bd7f-451c-a268-217b2eeefe71",
   "metadata": {},
   "source": [
    "Q9. Given a Pandas DataFrame df with a column 'Values', write a Python function to calculate the mean,\n",
    "median, and standard deviation of the values in the 'Values' column."
   ]
  },
  {
   "cell_type": "code",
   "execution_count": 67,
   "id": "ac83f64c-075f-4632-876b-afcb01b0b7c7",
   "metadata": {},
   "outputs": [],
   "source": [
    "import pandas as pd"
   ]
  },
  {
   "cell_type": "code",
   "execution_count": 68,
   "id": "0c6b0663-0218-4505-80ce-a6b4d1b48fdb",
   "metadata": {},
   "outputs": [],
   "source": [
    "df = pd.DataFrame({'Values':[22,53,73,45,32,34]})"
   ]
  },
  {
   "cell_type": "code",
   "execution_count": 69,
   "id": "eccd987c-d74a-4a2b-a709-f03b9ef886ce",
   "metadata": {},
   "outputs": [
    {
     "name": "stdout",
     "output_type": "stream",
     "text": [
      "   Values\n",
      "0      22\n",
      "1      53\n",
      "2      73\n",
      "3      45\n",
      "4      32\n",
      "5      34\n"
     ]
    }
   ],
   "source": [
    "print(df)"
   ]
  },
  {
   "cell_type": "code",
   "execution_count": 74,
   "id": "68b8f6d6-6042-4c31-b738-edfef019c8c0",
   "metadata": {},
   "outputs": [
    {
     "name": "stdout",
     "output_type": "stream",
     "text": [
      "Values    43.166667\n",
      "dtype: float64\n"
     ]
    }
   ],
   "source": [
    "print(df.mean())"
   ]
  },
  {
   "cell_type": "code",
   "execution_count": 71,
   "id": "1b0505e6-7d95-4552-8c9d-b62615e8d20a",
   "metadata": {},
   "outputs": [
    {
     "name": "stdout",
     "output_type": "stream",
     "text": [
      "Values    18.148462\n",
      "dtype: float64\n"
     ]
    }
   ],
   "source": [
    "print(df.std())"
   ]
  },
  {
   "cell_type": "code",
   "execution_count": 72,
   "id": "86c44353-e850-4a7b-a9f2-0a48812d4b50",
   "metadata": {},
   "outputs": [
    {
     "name": "stdout",
     "output_type": "stream",
     "text": [
      "Values    39.5\n",
      "dtype: float64\n"
     ]
    }
   ],
   "source": [
    "print(df.median())"
   ]
  },
  {
   "cell_type": "markdown",
   "id": "e7b98973-6035-4ea9-a365-4a4f65e3f6e8",
   "metadata": {},
   "source": [
    "Q10. Given a Pandas DataFrame df with a column 'Sales' and a column 'Date', write a Python function to\n",
    "create a new column 'MovingAverage' that contains the moving average of the sales for the past 7 days\n",
    "for each row in the DataFrame. The moving average should be calculated using a window of size 7 and\n",
    "should include the current day."
   ]
  },
  {
   "cell_type": "code",
   "execution_count": 12,
   "id": "f32fa90e-4bce-4155-9a71-2a0e53721c17",
   "metadata": {},
   "outputs": [],
   "source": [
    "import pandas as pd\n",
    "\n",
    "def calculate_moving_average(df):\n",
    "    # Set the index of the DataFrame to the 'Date' column\n",
    "    df.set_index('Date', inplace=True)\n",
    "    # Compute the rolling window of size 7 for the 'Sales' column\n",
    "    df['MovingAverage'] = df['Revenue'].rolling(window=7, min_periods=1).mean()\n",
    "    # Reset the index of the DataFrame\n",
    "    df.reset_index(inplace=True)\n",
    "    return df\n"
   ]
  },
  {
   "cell_type": "code",
   "execution_count": 13,
   "id": "ff1307c2-0501-4733-b2aa-db8b5e9792f3",
   "metadata": {},
   "outputs": [
    {
     "name": "stdout",
     "output_type": "stream",
     "text": [
      "         Date  Day     Month  Year  Customer_Age       Age_Group  \\\n",
      "0  2013-11-26   26  November  2013            19     Youth (<25)   \n",
      "1  2015-11-26   26  November  2015            19     Youth (<25)   \n",
      "2  2014-03-23   23     March  2014            49  Adults (35-64)   \n",
      "3  2016-03-23   23     March  2016            49  Adults (35-64)   \n",
      "4  2014-05-15   15       May  2014            47  Adults (35-64)   \n",
      "\n",
      "  Customer_Gender    Country             State Product_Category Sub_Category  \\\n",
      "0               M     Canada  British Columbia      Accessories   Bike Racks   \n",
      "1               M     Canada  British Columbia      Accessories   Bike Racks   \n",
      "2               M  Australia   New South Wales      Accessories   Bike Racks   \n",
      "3               M  Australia   New South Wales      Accessories   Bike Racks   \n",
      "4               F  Australia   New South Wales      Accessories   Bike Racks   \n",
      "\n",
      "               Product  Order_Quantity  Unit_Cost  Unit_Price  Profit  Cost  \\\n",
      "0  Hitch Rack - 4-Bike               8         45         120     590   360   \n",
      "1  Hitch Rack - 4-Bike               8         45         120     590   360   \n",
      "2  Hitch Rack - 4-Bike              23         45         120    1366  1035   \n",
      "3  Hitch Rack - 4-Bike              20         45         120    1188   900   \n",
      "4  Hitch Rack - 4-Bike               4         45         120     238   180   \n",
      "\n",
      "   Revenue  MovingAverage  \n",
      "0      950     950.000000  \n",
      "1      950     950.000000  \n",
      "2     2401    1433.666667  \n",
      "3     2088    1597.250000  \n",
      "4      418    1361.400000  \n"
     ]
    }
   ],
   "source": [
    "df = pd.read_csv('https://raw.githubusercontent.com/ine-rmotr-curriculum/FreeCodeCamp-Pandas-Real-Life-Example/master/data/sales_data.csv')\n",
    "df_with_ma = calculate_moving_average(df)\n",
    "print(df_with_ma.head())\n"
   ]
  },
  {
   "cell_type": "markdown",
   "id": "2e4c72ff-e8e4-4861-80af-182408e8bba1",
   "metadata": {},
   "source": [
    "Q11. You have a Pandas DataFrame df with a column 'Date'. Write a Python function that creates a new\n",
    "column 'Weekday' in the DataFrame. The 'Weekday' column should contain the weekday name (e.g.\n",
    "Monday, Tuesday) corresponding to each date in the 'Date' column.\n",
    "For example, if df contains the following values:\n",
    "Date\n",
    "0 2023-01-01\n",
    "1 2023-01-02\n",
    "2 2023-01-03\n",
    "3 2023-01-04\n",
    "4 2023-01-05\n",
    "Your function should create the following DataFrame:\n",
    "\n",
    "Date Weekday\n",
    "0 2023-01-01 Sunday\n",
    "1 2023-01-02 Monday\n",
    "2 2023-01-03 Tuesday\n",
    "3 2023-01-04 Wednesday\n",
    "4 2023-01-05 Thursday\n",
    "The function should return the modified DataFrame."
   ]
  },
  {
   "cell_type": "code",
   "execution_count": 1,
   "id": "1dcb3b84-3fd5-4319-be9d-546c0d9f844f",
   "metadata": {},
   "outputs": [],
   "source": [
    "import pandas as pd"
   ]
  },
  {
   "cell_type": "code",
   "execution_count": 11,
   "id": "04f4e423-803a-499b-8155-4d0db945d916",
   "metadata": {},
   "outputs": [],
   "source": [
    "df = pd.read_csv('RELIANCE.NS_.csv')"
   ]
  },
  {
   "cell_type": "code",
   "execution_count": 12,
   "id": "f96f4428-8ac2-4cfc-9c1e-64a525e8f257",
   "metadata": {},
   "outputs": [],
   "source": [
    "df['Date'] = pd.to_datetime(df['Date'])\n",
    "\n",
    "df['Weekday'] = df['Date'].dt.day_name()"
   ]
  },
  {
   "cell_type": "code",
   "execution_count": 20,
   "id": "af266173-7135-46f9-abfc-76b3d48a1160",
   "metadata": {},
   "outputs": [
    {
     "name": "stdout",
     "output_type": "stream",
     "text": [
      "           Date    Weekday\n",
      "0    2016-07-21   Thursday\n",
      "1    2016-07-22     Friday\n",
      "2    2016-07-25     Monday\n",
      "3    2016-07-26    Tuesday\n",
      "4    2016-07-27  Wednesday\n",
      "...         ...        ...\n",
      "1229 2021-07-14  Wednesday\n",
      "1230 2021-07-15   Thursday\n",
      "1231 2021-07-16     Friday\n",
      "1232 2021-07-19     Monday\n",
      "1233 2021-07-20    Tuesday\n",
      "\n",
      "[1234 rows x 2 columns]\n"
     ]
    }
   ],
   "source": [
    "print(df[['Date','Weekday']])"
   ]
  },
  {
   "cell_type": "markdown",
   "id": "fa4a71ca-2737-495a-be9a-79f8a34b9af8",
   "metadata": {},
   "source": [
    "Q12. Given a Pandas DataFrame df with a column 'Date' that contains timestamps, write a Python\n",
    "function to select all rows where the date is between '2023-01-01' and '2023-01-31'."
   ]
  },
  {
   "cell_type": "code",
   "execution_count": 26,
   "id": "75971592-4ae5-4dc6-8b4f-a7ecac3f4663",
   "metadata": {},
   "outputs": [],
   "source": [
    "import pandas as pd\n",
    "\n",
    "def select_january_data(df):\n",
    "    # Convert 'Date' column to datetime\n",
    "    df['Date'] = pd.to_datetime(df['Date'])\n",
    "    \n",
    "    # Filter rows with date between '2023-01-01' and '2023-01-31'\n",
    "    mask = (df['Date'] >= '2023-01-01') & (df['Date'] <= '2023-01-31')\n",
    "    january_data = df.loc[mask]\n",
    "    \n",
    "    return january_data\n"
   ]
  },
  {
   "cell_type": "code",
   "execution_count": 27,
   "id": "dae56e95-a998-4bab-9e23-7ef64eab8a08",
   "metadata": {},
   "outputs": [],
   "source": [
    "january_data = select_january_data(df)\n"
   ]
  },
  {
   "cell_type": "code",
   "execution_count": 28,
   "id": "2e108234-32a5-429d-9aa8-d5ad1485b685",
   "metadata": {},
   "outputs": [
    {
     "name": "stdout",
     "output_type": "stream",
     "text": [
      "        Date\n",
      "0 2023-01-03\n",
      "1 2023-01-06\n",
      "2 2023-01-31\n",
      "4 2023-01-15\n"
     ]
    }
   ],
   "source": [
    "print(january_data)"
   ]
  },
  {
   "cell_type": "markdown",
   "id": "6513a85c-dba7-4de8-b690-2a71ee5a8d2d",
   "metadata": {},
   "source": [
    "Q13. To use the basic functions of pandas, what is the first and foremost necessary library that needs to\n",
    "be imported?"
   ]
  },
  {
   "cell_type": "markdown",
   "id": "ad1f146e-66ad-4a30-a214-496c2af38fad",
   "metadata": {},
   "source": [
    "To use the basic functions of Pandas, you need to import the Pandas library. The most common way to do this is by using the import statement:"
   ]
  },
  {
   "cell_type": "code",
   "execution_count": 1,
   "id": "d80f75d8-00a8-486e-8b70-92403d6de28e",
   "metadata": {},
   "outputs": [],
   "source": [
    "import pandas as pd\n"
   ]
  },
  {
   "cell_type": "markdown",
   "id": "cac6f338-ab68-4d65-80c4-e23c1528f90d",
   "metadata": {},
   "source": [
    "Here, we import Pandas and give it the alias pd, which is a common convention in the Pandas community. This makes it easy to reference Pandas functions using the pd prefix, like pd.DataFrame(), pd.read_csv(), and so on.\n",
    "\n",
    "Once you have imported Pandas, you can start using its functions to read, manipulate, and analyze data."
   ]
  },
  {
   "cell_type": "code",
   "execution_count": null,
   "id": "c22ab009-ea09-449d-90ae-febe1b9c6010",
   "metadata": {},
   "outputs": [],
   "source": []
  }
 ],
 "metadata": {
  "kernelspec": {
   "display_name": "Python 3 (ipykernel)",
   "language": "python",
   "name": "python3"
  },
  "language_info": {
   "codemirror_mode": {
    "name": "ipython",
    "version": 3
   },
   "file_extension": ".py",
   "mimetype": "text/x-python",
   "name": "python",
   "nbconvert_exporter": "python",
   "pygments_lexer": "ipython3",
   "version": "3.10.8"
  }
 },
 "nbformat": 4,
 "nbformat_minor": 5
}
